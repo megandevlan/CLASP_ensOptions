{
 "cells": [
  {
   "cell_type": "code",
   "execution_count": 1,
   "id": "3a57fbd9",
   "metadata": {},
   "outputs": [],
   "source": [
    "# Load libraries\n",
    "\n",
    "# # Plotting utils \n",
    "import matplotlib.pyplot as plt \n",
    "import matplotlib.colors as colors\n",
    "import matplotlib.ticker as ticker \n",
    "import matplotlib.patches as patches\n",
    "import matplotlib as matplotlib\n",
    "import matplotlib.dates as mdates\n",
    "from mpl_toolkits.axes_grid1 import make_axes_locatable\n",
    "\n",
    "# Analysis\n",
    "import numpy as np \n",
    "import xarray as xr\n",
    "import datetime\n",
    "from   datetime import date, timedelta\n",
    "import pandas as pd \n",
    "import scipy.stats as stats\n",
    "## Need to use metPy conda env\n",
    "import metpy.calc as mpc\n",
    "from metpy.units import units\n",
    "import pickle\n",
    "import glob\n",
    "\n",
    "# Import Ngl with pyn_env active \n",
    "import Ngl\n"
   ]
  },
  {
   "cell_type": "code",
   "execution_count": 2,
   "id": "5dfcd044",
   "metadata": {},
   "outputs": [],
   "source": [
    "import warnings\n",
    "warnings.filterwarnings('ignore')"
   ]
  },
  {
   "cell_type": "code",
   "execution_count": 3,
   "id": "bdec5142",
   "metadata": {},
   "outputs": [],
   "source": [
    "\n",
    "# Grabbed from Brian M. to use time midpoints, not end periods\n",
    "def cesm_correct_time(ds):\n",
    "    \"\"\"Given a Dataset, check for time_bnds,\n",
    "       and use avg(time_bnds) to replace the time coordinate.\n",
    "       Purpose is to center the timestamp on the averaging inverval.   \n",
    "       NOTE: ds should have been loaded using `decode_times=False`\n",
    "    \"\"\"\n",
    "    assert 'time_bnds' in ds\n",
    "    assert 'time' in ds\n",
    "    correct_time_values = ds['time_bnds'].mean(dim='nbnd')\n",
    "    # copy any metadata:\n",
    "    correct_time_values.attrs = ds['time'].attrs\n",
    "    ds = ds.assign_coords({\"time\": correct_time_values})\n",
    "    ds = xr.decode_cf(ds)  # decode to datetime objects\n",
    "    return ds\n"
   ]
  },
  {
   "cell_type": "code",
   "execution_count": 4,
   "id": "0c9d4256",
   "metadata": {},
   "outputs": [],
   "source": [
    "'''\n",
    "Define a function to get the height of the PBL as the level with maximum d(var)/dz. \n",
    "Inputs:  A dataset with CAM output ('DS') and the variable to differentiate ('pbl_var')\n",
    "Outputs: An array with boundary layer depth\n",
    "'''\n",
    "def PBLHasMaxDZ(DS, pbl_var): \n",
    "    # Convert HMGcamDS_all to height (nabbed from Rich's script)\n",
    "    p0 = DS['P0'].values[0]\n",
    "    \n",
    "    plevm = DS['hyam']*p0 + DS['hybm']*DS['PS'].isel(lat=0,lon=0) # Mid level\n",
    "    plevm.attrs['units'] = \"Pa\"\n",
    "\n",
    "    # Height with standard atmosphere\n",
    "    zlevm      = plevm\n",
    "    zlevm_vals = 1000.*np.asarray(mpc.pressure_to_height_std(plevm)) # Units of [m] after multiplied \n",
    "    zlevm      = plevm.copy(deep=True)\n",
    "    zlevm[:,:] = zlevm_vals\n",
    "    \n",
    "    pvar        = DS[pbl_var].isel(lat=0,lon=0)\n",
    "    pvar['lev'] = zlevm[0,:].values\n",
    "    dvardz      = pvar.differentiate(\"lev\") # Find field gradient wrt HEIGHT!\n",
    "\n",
    "    dvardz.loc[:,200:]   = 0.  # Restrict to a specificheight region\n",
    "    dvardz.loc[:,:3000.] = 0\n",
    "\n",
    "    nT = np.shape(dvardz)[0]\n",
    "    PBLdepth = np.full([nT], np.nan)\n",
    "\n",
    "    for iT in range(nT):\n",
    "        iLevs  = np.where((zlevm[iT,:]>=200) & (zlevm[iT,:]<=3000))[0]\n",
    "        maxLev = np.where(dvardz[iT,iLevs]==np.nanmax(dvardz[iT,iLevs]))[0]\n",
    "        PBLdepth[iT] = zlevm[iT,iLevs[maxLev[0]]]\n",
    "    \n",
    "    return PBLdepth"
   ]
  },
  {
   "cell_type": "code",
   "execution_count": 5,
   "id": "5d349a31",
   "metadata": {},
   "outputs": [],
   "source": [
    "def interpolateToPressure_v2(DS, varName, pressGoals):\n",
    "#     nCases = len(DSin.case.values)\n",
    "#     nTimes = len(DSin.time.values)\n",
    "    \n",
    "#     saveOut = np.full([nTimes,len(pressGoals),1,1], np.nan)\n",
    "\n",
    "    ## For the larger arrays, need to operate case-by-case; input to vinth2p can only be 3 or 4 dimensions. \n",
    "#     for iCase in range(nCases): \n",
    "#     DS = DSin\n",
    "\n",
    "    p0mb = DS.P0.values[0]/100        # mb\n",
    "\n",
    "    # Pull out hya/hyb profiles \n",
    "    hyam = DS.hyam.values[0,:]\n",
    "    hybm = DS.hybm.values[0,:]\n",
    "    hyai = DS.hyai.values[0,:]\n",
    "    hybi = DS.hybi.values[0,:]\n",
    "\n",
    "    # Surface pressure with time dimension\n",
    "    PS   = DS.PS.values              # Pa \n",
    "\n",
    "    # Converting variables: \n",
    "    if np.shape(DS[varName].values)[1]==len(DS.ilev.values):\n",
    "        varInterp = Ngl.vinth2p(DS[varName].values,hyai,hybi,pressGoals,PS,1,p0mb,1,True)\n",
    "    elif np.shape(DS[varName].values)[1]==len(DS.lev.values):\n",
    "        varInterp = Ngl.vinth2p(DS[varName].values,hyam,hybm,pressGoals,PS,1,p0mb,1,True)\n",
    "\n",
    "    saveOut = varInterp\n",
    "    \n",
    "    return saveOut"
   ]
  },
  {
   "cell_type": "markdown",
   "id": "d21de6e9",
   "metadata": {},
   "source": [
    "## Read in data"
   ]
  },
  {
   "cell_type": "code",
   "execution_count": 6,
   "id": "99e5e82e-b902-4e38-b2ec-92c7fab55c2e",
   "metadata": {
    "scrolled": true,
    "tags": []
   },
   "outputs": [
    {
     "name": "stdout",
     "output_type": "stream",
     "text": [
      "Done with file 1 of 44 \n",
      "Done with file 2 of 44 \n",
      "Done with file 3 of 44 \n",
      "Done with file 4 of 44 \n",
      "Done with file 5 of 44 \n",
      "Done with file 6 of 44 \n",
      "Done with file 7 of 44 \n",
      "Done with file 8 of 44 \n",
      "Done with file 9 of 44 \n",
      "Done with file 10 of 44 \n",
      "Done with file 11 of 44 \n",
      "Done with file 12 of 44 \n",
      "Done with file 13 of 44 \n",
      "Done with file 14 of 44 \n",
      "Done with file 15 of 44 \n",
      "Done with file 16 of 44 \n",
      "Done with file 17 of 44 \n",
      "Done with file 18 of 44 \n",
      "Done with file 19 of 44 \n",
      "Done with file 20 of 44 \n",
      "Done with file 21 of 44 \n",
      "Done with file 22 of 44 \n",
      "Done with file 23 of 44 \n",
      "Done with file 24 of 44 \n",
      "Done with file 25 of 44 \n",
      "Done with file 26 of 44 \n",
      "Done with file 27 of 44 \n",
      "Done with file 28 of 44 \n",
      "Done with file 29 of 44 \n",
      "Done with file 30 of 44 \n",
      "Done with file 31 of 44 \n",
      "Done with file 32 of 44 \n",
      "Done with file 33 of 44 \n",
      "Done with file 34 of 44 \n",
      "Done with file 35 of 44 \n",
      "Done with file 36 of 44 \n",
      "Done with file 37 of 44 \n",
      "Done with file 38 of 44 \n",
      "Done with file 39 of 44 \n",
      "Done with file 40 of 44 \n",
      "Done with file 41 of 44 \n",
      "Done with file 42 of 44 \n",
      "Done with file 43 of 44 \n",
      "Done with file 44 of 44 \n"
     ]
    }
   ],
   "source": [
    "dataDir = '/glade/scratch/mdfowler/archive/'\n",
    "\n",
    "yearStrings  = np.asarray(['2015','2016','2017','2018'])\n",
    "\n",
    "fileCount = 0\n",
    "for iYr in range(len(yearStrings)): \n",
    "    # caseName = 'FSCAM.T42_T42.CLASP_fullycoupled_FinalOption.onlyThlRt.HMG_betterFinidat4_MoreMomentsNoReorder_5mDt_realSfc_useTheta_'+yearStrings[iYr]+'jja_relaxTlongTau_freeSfcT_pert01'\n",
    "    caseName = 'FSCAM.T42_T42.CLASP_fullycoupled_FinalOption.onlyThlRt.HTG_betterFinidat4_MoreMomentsNoReorder_5mDt_realSfc_useTheta_'+yearStrings[iYr]+'jja_relaxTlongTau_freeSfcT'\n",
    "\n",
    "    ## Atm files \n",
    "    fileDir  = dataDir+caseName+'/atm/hist/' \n",
    "    lndDir   = dataDir+caseName+'/lnd/hist/' \n",
    "    \n",
    "    listFiles = np.sort(glob.glob(fileDir+'*h1*'))\n",
    "    h0Files   = np.sort(glob.glob(lndDir+'*h0*'))\n",
    "    h1Files   = np.sort(glob.glob(lndDir+'*h1*'))\n",
    "    \n",
    "    for iFile in range(len(listFiles)): \n",
    "        with xr.open_dataset(listFiles[iFile], decode_times=False) as camDS:\n",
    "            camDS = cesm_correct_time(camDS)\n",
    "            camDS['time'] = camDS.indexes['time'].to_datetimeindex() \n",
    "            \n",
    "        with xr.open_dataset(h0Files[iFile], decode_times=True) as clmDS: \n",
    "            clmDS['time'] = camDS['time']\n",
    "\n",
    "        with xr.open_dataset(h1Files[iFile], decode_times=True) as clmPatchDS: \n",
    "            clmPatchDS['time'] = camDS['time']\n",
    "\n",
    "        # Discard the first two days if iFile == 0  \n",
    "        if iFile==0:\n",
    "            iTimeStart   = np.where(camDS.time.values >= (camDS.time.values[0] + np.timedelta64(2,'D')))[0]\n",
    "            timeArr      = np.arange(iTimeStart[0], len(camDS.time.values))\n",
    "\n",
    "            camDS        = camDS.isel(time=timeArr)\n",
    "            clmDS        = clmDS.isel(time=timeArr)\n",
    "            clmPatchDS   = clmPatchDS.isel(time=timeArr)\n",
    "\n",
    "        if fileCount==0:\n",
    "            camDS_all      = camDS\n",
    "            clmDS_all      = clmDS\n",
    "            clmPatchDS_all = clmPatchDS\n",
    "        else: \n",
    "            camDS_all      = xr.concat([camDS_all,     camDS],      dim='time')\n",
    "            clmDS_all      = xr.concat([clmDS_all,     clmDS],      dim='time', data_vars='minimal')\n",
    "            clmPatchDS_all = xr.concat([clmPatchDS_all,clmPatchDS], dim='time', data_vars='minimal')\n",
    "            \n",
    "        fileCount = fileCount+1\n",
    "        \n",
    "        print('Done with file %i of %i '% (fileCount,len(yearStrings)*len(listFiles)))\n",
    "            \n",
    "    \n",
    " "
   ]
  },
  {
   "cell_type": "code",
   "execution_count": 7,
   "id": "8021079b-ed94-468b-b9f4-3614d568a2b9",
   "metadata": {
    "scrolled": true,
    "tags": []
   },
   "outputs": [
    {
     "name": "stdout",
     "output_type": "stream",
     "text": [
      "Done with file 1 of 4 \n",
      "Done with file 2 of 4 \n",
      "Done with file 3 of 4 \n",
      "Done with file 4 of 4 \n"
     ]
    }
   ],
   "source": [
    "# dataDir = '/glade/scratch/mdfowler/archive/'\n",
    "\n",
    "# yearStrings  = np.asarray(['2015','2016','2017','2018'])\n",
    "\n",
    "# fileCount = 0\n",
    "# for iYr in range(len(yearStrings)): \n",
    "#     caseName = 'FSCAM.T42_T42.CLASP_fullycoupled_FinalOption.onlyThlRt.HTG_betterFinidat4_MoreMomentsNoReorder_5mDt_realSfc_useTheta_'+yearStrings[iYr]+'jja_relaxTlongTau_freeSfcT_pert07'\n",
    "    \n",
    "#     fileDir   = dataDir+caseName+'/atm/hist/' \n",
    "#     extraFile = glob.glob(fileDir+'*h0*ExtraVars.nc')\n",
    "    \n",
    "#     with xr.open_dataset(extraFile[0], decode_times=False) as extraDS:\n",
    "#         extraDS = cesm_correct_time(extraDS)\n",
    "#         extraDS['time'] = extraDS.indexes['time'].to_datetimeindex() \n",
    "\n",
    "#     # Discard the first two days if iFile == 0  \n",
    "#     iTimeStart   = np.where(extraDS.time.values >= (extraDS.time.values[0] + np.timedelta64(2,'D')))[0]\n",
    "#     timeArr      = np.arange(iTimeStart[0], len(extraDS.time.values))\n",
    "\n",
    "#     extraDS      = extraDS.isel(time=timeArr)\n",
    "\n",
    "#     if fileCount==0:\n",
    "#         extraDS_all = extraDS\n",
    "\n",
    "#     else: \n",
    "#         extraDS_all = xr.concat([extraDS_all,extraDS], dim='time')\n",
    "\n",
    "#     fileCount = fileCount+1\n",
    "#     print('Done with file %i of %i '% (fileCount,len(yearStrings)*len(extraFile)))\n",
    "\n",
    "    \n",
    "# # Merge into larger dataset\n",
    "# camDS_all = xr.merge([camDS_all, extraDS_all])"
   ]
  },
  {
   "cell_type": "markdown",
   "id": "385f6f05",
   "metadata": {},
   "source": [
    "## Now do the processing\n"
   ]
  },
  {
   "cell_type": "code",
   "execution_count": 8,
   "id": "0c6e22bd",
   "metadata": {},
   "outputs": [
    {
     "name": "stdout",
     "output_type": "stream",
     "text": [
      "Done computing PBL depth with theta\n"
     ]
    }
   ],
   "source": [
    "# ## Add evaporative fraction to DS \n",
    "# ds_EF = camDS_all.LHFLX.values / (camDS_all.LHFLX.values + camDS_all.SHFLX.values)\n",
    "# camDS_all['EvapFraction'] = (('time'), np.squeeze(ds_EF))\n",
    "\n",
    "# ## Define the actual vertical velocity skew, not just the third order moment \n",
    "# skw_W = camDS_all.WP3_CLUBB.values / ((camDS_all.WP2_CLUBB.values)**1.5)\n",
    "# camDS_all['Skw_W'] = (('time','ilev'), np.squeeze(skw_W))\n",
    "\n",
    "\n",
    "# ## Steps to get PBL \n",
    "\n",
    "# ## Get *potential* temperature, not just T \n",
    "\n",
    "# # So first, get actual pressures \n",
    "# p0       = camDS_all['P0'].values[0]\n",
    "# plevm    = camDS_all['hyam']*p0 + camDS_all['hybm']*camDS_all['PS'].isel(lat=0,lon=0) # Mid level\n",
    "# plevm.attrs['units'] = \"Pa\"\n",
    "\n",
    "# theta = np.asarray(mpc.potential_temperature(plevm * units.pascals, camDS_all['T'] * units.kelvin))\n",
    "\n",
    "# # Add to existing DS\n",
    "# camDS_all['theta'] = (('time','lev','lat','lon'), theta)\n",
    "\n",
    "# # Height with standard atmosphere\n",
    "# zlevm_vals = 1000.*np.asarray(mpc.pressure_to_height_std(plevm)) # Units of [m] after multiplied \n",
    "# zlevm      = plevm.copy(deep=True)\n",
    "# zlevm[:,:] = zlevm_vals\n",
    "\n",
    "# # Now compute the BL depth and save it to the larger CAM datasets \n",
    "# PBLdepth = PBLHasMaxDZ(camDS_all, 'theta')\n",
    "# print('Done computing PBL depth with theta')\n",
    "\n",
    "# # Add above to each dataset\n",
    "# camDS_all['PBLdepth']    = (('time'), PBLdepth)\n",
    "\n"
   ]
  },
  {
   "cell_type": "code",
   "execution_count": null,
   "id": "82a0b028-480a-4b55-9a36-94a3bfdcc818",
   "metadata": {},
   "outputs": [],
   "source": []
  },
  {
   "cell_type": "code",
   "execution_count": null,
   "id": "b50ca551-7581-445c-979e-3ed31f60ab61",
   "metadata": {},
   "outputs": [],
   "source": []
  },
  {
   "cell_type": "markdown",
   "id": "96ded920",
   "metadata": {},
   "source": [
    "**Convert to local time**"
   ]
  },
  {
   "cell_type": "code",
   "execution_count": 7,
   "id": "fce4ef7a",
   "metadata": {},
   "outputs": [
    {
     "name": "stdout",
     "output_type": "stream",
     "text": [
      "First four times in UTC:\n",
      " ['2015-06-02T23:32:15.000000000' '2015-06-02T23:37:15.000000000'\n",
      " '2015-06-02T23:42:15.000000000' '2015-06-02T23:47:15.000000000'\n",
      " '2015-06-02T23:52:15.000000000']\n",
      "First four times in local:\n",
      " ['2015-06-02T18:32:15.000000000' '2015-06-02T18:37:15.000000000'\n",
      " '2015-06-02T18:42:15.000000000' '2015-06-02T18:47:15.000000000'\n",
      " '2015-06-02T18:52:15.000000000']\n"
     ]
    }
   ],
   "source": [
    "## Convert to local times...\n",
    "# camDS_localReal         = camDS_all.copy(deep=True)\n",
    "clmDS_localReal           = clmDS_all.copy(deep=True)\n",
    "clmPatchDS_localReal      = clmPatchDS_all.copy(deep=True)\n",
    "\n",
    "# Confirmed that all the times are identical, so using the same local time arrays\n",
    "localTimes = camDS_all['time'].values - np.timedelta64(5,'h')\n",
    "\n",
    "# Replace time dimension with local time\n",
    "# camDS_localReal    = camDS_localReal.assign_coords({\"time\": localTimes})\n",
    "clmDS_localReal      = clmDS_localReal.assign_coords({\"time\": localTimes})\n",
    "clmPatchDS_localReal = clmPatchDS_localReal.assign_coords({\"time\": localTimes})\n",
    "\n",
    "# print('First four times in UTC:\\n',   camDS_all.time.values[0:5])\n",
    "# print('First four times in local:\\n', camDS_localReal.time.values[0:5])\n",
    "print('First four times in UTC:\\n',   clmDS_all.time.values[0:5])\n",
    "print('First four times in local:\\n', clmDS_localReal.time.values[0:5])\n"
   ]
  },
  {
   "cell_type": "code",
   "execution_count": 8,
   "id": "f13b215e-b7ac-4a95-805d-014a78fce6e6",
   "metadata": {},
   "outputs": [
    {
     "name": "stdout",
     "output_type": "stream",
     "text": [
      "Saved interp CLM files to pickle\n"
     ]
    }
   ],
   "source": [
    "\n",
    "saveDir = '/glade/work/mdfowler/CLASP/histData/processedData/'\n",
    "pickle.dump( clmDS_localReal,      open( saveDir+\"realSfc_HTGclm_rtpthlponly_relaxTlongTau_freeSfcT.p\", \"wb\" ) )\n",
    "pickle.dump( clmPatchDS_localReal, open( saveDir+\"realSfc_HTGclmPatch_rtpthlponly_relaxTlongTau_freeSfcT.p\", \"wb\" ) )\n",
    "print('Saved interp CLM files to pickle')\n"
   ]
  },
  {
   "cell_type": "code",
   "execution_count": null,
   "id": "682a8499",
   "metadata": {},
   "outputs": [],
   "source": []
  },
  {
   "cell_type": "markdown",
   "id": "fb95827d",
   "metadata": {},
   "source": [
    "**More processing**"
   ]
  },
  {
   "cell_type": "code",
   "execution_count": 10,
   "id": "0012dc72",
   "metadata": {},
   "outputs": [],
   "source": [
    "## Belated realization that the heights computed are above *sea level* not above ground level. \n",
    "#    Need to subtract elevation. \n",
    "nateFile = '/glade/work/mdfowler/CLASP/clasp-htg.bdate.nc'\n",
    "nateDS = xr.open_dataset(nateFile, decode_times=True)\n",
    "elevation = nateDS.alt.values\n",
    "\n",
    "camDS_localReal['PBLdepth']   = camDS_localReal['PBLdepth']  - elevation[0][0] \n"
   ]
  },
  {
   "cell_type": "code",
   "execution_count": 11,
   "id": "5aa02956",
   "metadata": {},
   "outputs": [],
   "source": [
    "## Add in TKE \n",
    "camDS_localReal['TKE']  = (('time','ilev','lat,','lon'),\n",
    "                   0.5*(camDS_localReal['UP2_CLUBB']+camDS_localReal['VP2_CLUBB']+camDS_localReal['WP2_CLUBB'])) \n",
    "\n",
    "camDS_localReal['TKE'].attrs['units']   = 'm2/s2'\n",
    "camDS_localReal['TKE'].attrs['long_name']   = 'Turbulent Kinetic Energy'\n"
   ]
  },
  {
   "cell_type": "code",
   "execution_count": 12,
   "id": "ecda4cc3",
   "metadata": {},
   "outputs": [],
   "source": [
    "## Add in wind speed \n",
    "camDS_localReal['WindMagnitude']  = (('time','lev','lat,','lon'),\n",
    "                                np.sqrt((camDS_localReal.U.values**2.0) + (camDS_localReal.V.values**2.0)) )\n",
    "\n",
    "camDS_localReal['WindMagnitude'].attrs['units']   = 'm/s'\n",
    "camDS_localReal['WindMagnitude'].attrs['long_name']   = 'Wind speed'\n"
   ]
  },
  {
   "cell_type": "markdown",
   "id": "347f5b87",
   "metadata": {},
   "source": [
    "**Interpolate to standard pressure levels**"
   ]
  },
  {
   "cell_type": "code",
   "execution_count": 13,
   "id": "a995687d",
   "metadata": {
    "scrolled": true
   },
   "outputs": [
    {
     "name": "stdout",
     "output_type": "stream",
     "text": [
      "Done with variable 0 of 25\n",
      "Done with variable 1 of 25\n",
      "Done with variable 2 of 25\n",
      "Done with variable 3 of 25\n",
      "Done with variable 4 of 25\n",
      "Done with variable 5 of 25\n",
      "Done with variable 6 of 25\n",
      "Done with variable 7 of 25\n",
      "Done with variable 8 of 25\n",
      "Done with variable 9 of 25\n",
      "Done with variable 10 of 25\n",
      "Done with variable 11 of 25\n",
      "Done with variable 12 of 25\n",
      "Done with variable 13 of 25\n",
      "Done with variable 14 of 25\n",
      "Done with variable 15 of 25\n",
      "Done with variable 16 of 25\n",
      "Done with variable 17 of 25\n",
      "Done with variable 18 of 25\n",
      "Done with variable 19 of 25\n",
      "Done with variable 20 of 25\n",
      "Done with variable 21 of 25\n",
      "Done with variable 22 of 25\n",
      "Done with variable 23 of 25\n",
      "Done with variable 24 of 25\n"
     ]
    }
   ],
   "source": [
    "## Decide on levels to interpoalte to and add to larger arrays\n",
    "pnew64 = np.arange(200.0,980.0,10.0) \n",
    "\n",
    "camDS_localReal = camDS_localReal.assign_coords({\"levInterp\": pnew64})\n",
    "\n",
    "varSels = np.asarray(['THLP2_CLUBB','RTP2_CLUBB','RTPTHLP_CLUBB','WPRTP_CLUBB','WPTHLP_CLUBB','WP2_CLUBB','UP2_CLUBB',\n",
    "                      'VP2_CLUBB','TKE','U','V','T','Q','OMEGA','RVMTEND_CLUBB','STEND_CLUBB','CLOUD',\n",
    "                      'UPWP_CLUBB','VPWP_CLUBB','WP2RTP_CLUBB','THETAL','QRL','QRS','DCQ','WindMagnitude'])\n",
    "\n",
    "\n",
    "for iVar in range(len(varSels)): \n",
    "    varUnits = camDS_localReal[varSels[iVar]].units\n",
    "    varName  = camDS_localReal[varSels[iVar]].long_name\n",
    "    \n",
    "    # Interpolate variables and add to larger arrays \n",
    "    interpVar_real = interpolateToPressure_v2(camDS_localReal,     varSels[iVar], pnew64)\n",
    "    \n",
    "    camDS_localReal[varSels[iVar]+'_interp']  = (('time','levInterp','lat','lon'), interpVar_real)\n",
    "     \n",
    "    ## Assign attibutes \n",
    "    camDS_localReal[varSels[iVar]+'_interp'].attrs['units']     = varUnits\n",
    "    camDS_localReal[varSels[iVar]+'_interp'].attrs['long_name'] = varName\n",
    "\n",
    "    \n",
    "    print('Done with variable %i of %i' % (iVar, len(varSels)))\n",
    "    "
   ]
  },
  {
   "cell_type": "code",
   "execution_count": 14,
   "id": "703749b4",
   "metadata": {},
   "outputs": [
    {
     "name": "stdout",
     "output_type": "stream",
     "text": [
      "Saved interp CAM files to pickle\n"
     ]
    }
   ],
   "source": [
    "saveDir = '/glade/work/mdfowler/CLASP/histData/processedData/'\n",
    "pickle.dump( camDS_localReal,   open( saveDir+\"realSfc_HTG_rtpthlponly_relaxTlongTau_freeSfcT_pert07.p\", \"wb\" ) )\n",
    "print('Saved interp CAM files to pickle')\n"
   ]
  },
  {
   "cell_type": "code",
   "execution_count": null,
   "id": "38884c66",
   "metadata": {},
   "outputs": [],
   "source": []
  }
 ],
 "metadata": {
  "kernelspec": {
   "display_name": "Python [conda env:pyn_env]",
   "language": "python",
   "name": "conda-env-pyn_env-py"
  },
  "language_info": {
   "codemirror_mode": {
    "name": "ipython",
    "version": 3
   },
   "file_extension": ".py",
   "mimetype": "text/x-python",
   "name": "python",
   "nbconvert_exporter": "python",
   "pygments_lexer": "ipython3",
   "version": "3.8.6"
  }
 },
 "nbformat": 4,
 "nbformat_minor": 5
}
