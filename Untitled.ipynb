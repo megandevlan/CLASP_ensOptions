{
 "cells": [
  {
   "cell_type": "code",
   "execution_count": 4,
   "id": "faf775a9-d210-4539-be78-320053894686",
   "metadata": {},
   "outputs": [
    {
     "data": {
      "text/plain": [
       "'0716'"
      ]
     },
     "execution_count": 4,
     "metadata": {},
     "output_type": "execute_result"
    }
   ],
   "source": [
    "lesDateStrings = ['20170716', '20160610', '20170924']\n",
    "\n",
    "lesDateStrings[0][0:4]\n",
    "lesDateStrings[0][4::]"
   ]
  },
  {
   "cell_type": "code",
   "execution_count": null,
   "id": "57ead07b-cb1b-42ee-99fd-3533cfa4125e",
   "metadata": {},
   "outputs": [],
   "source": []
  }
 ],
 "metadata": {
  "kernelspec": {
   "display_name": "Python 3 (ipykernel)",
   "language": "python",
   "name": "python3"
  },
  "language_info": {
   "codemirror_mode": {
    "name": "ipython",
    "version": 3
   },
   "file_extension": ".py",
   "mimetype": "text/x-python",
   "name": "python",
   "nbconvert_exporter": "python",
   "pygments_lexer": "ipython3",
   "version": "3.9.12"
  }
 },
 "nbformat": 4,
 "nbformat_minor": 5
}
